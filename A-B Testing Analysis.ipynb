{
 "cells": [
  {
   "cell_type": "markdown",
   "id": "92d1b239-bf35-43f1-bb21-5247ace44e98",
   "metadata": {},
   "source": [
    "## A/B Test data set\n",
    "\n",
    "This dataset contains 294.478 entries showing the result of A/B testing for a user session.\n",
    "\n",
    "We can think that this experiment is designed to decide on a change to be made on the product page of an e-commerce site. Our goal with this change will be to increase the number of customers' purchases and achieve a higher conversion rate. \n",
    "\n",
    "Let's say the current conversion rate averages around 13% over the year and we expect a 2% increase. It means that the new design will be considered successful if it increases the conversion rate to 15%.\n",
    "\n",
    "\n",
    "Columns:\n",
    "\n",
    "user_id: The user id of each session\n",
    "timestamp: The timestamp for the session\n",
    "group: Defines whether the user group is assigned as Control or Treatment\n",
    "landing_page: Defines whether the user sees the current page (old_page) or the page to be tested (new_page)\n",
    "converted: Indicates whether the session ended with a conversion (binary, 0=not converted, 1=converted)\n",
    "\n",
    "\n",
    "How to conduct the A/B test?\n",
    "\n",
    "1) First we need to design our experiment. And to do that, we should formulate a hypothesis.\n",
    "\n",
    "In a two-tailed test, the generic null and alternative hypotheses are the following:\n",
    "\n",
    "Null (H0): The effect equals zero.\n",
    "Alternative (HA): The effect does not equal zero.\n",
    "\n",
    "The significance level is the probability of rejecting the null hypothesis H0 when the null hypothesis H0 is in fact true. The higher the significance level, the more likely we can make a type I error.\n",
    "\n",
    "The most typical value of the significance (our alpha) level is 0.05. We will also use 0.05 in this example.\n",
    "\n",
    "So with the confidence level of 95%, our alpha value (𝛼), calculated as (1 — confidence level), will be 0.05.\n",
    "\n",
    "Before decide to reject the Null hypothesis, we want to be 95% sure that it is statistically different from the conversion rate of our old design. If the p_value is less than the 0.05 alpha value we can reject the null hypothesis. \n",
    "\n",
    "\n",
    "2) Then we need to choose the variables. \n",
    "\n",
    "The Control and Treatment groups will be our independent variables, while the conversion rate will be the dependent variable. \n",
    "\n",
    "Groups:\n",
    "The control group - They'll be shown the old design\n",
    "The treatment group - They'll be shown the new design\n",
    "\n",
    "Conversion Rate:\n",
    "0 - The user did not buy the product during this user session\n",
    "1 - The user bought the product during this user session\n",
    "\n",
    "3) And finally, it is important to decide on the right amount of sample size.\n",
    "\n",
    "To find the minimum required sample size to get statistically significant results we should apply mathematical statistics and power analysis.\n",
    "\n",
    "The power analysis allows us to determine the sample size with a specific confidence level which is required to identify the effect size. \n",
    "\n",
    "To estimate our sample size, we must define the power and effect size of the test in addition to the significance level.\n",
    "\n",
    "Statistical power is the probability that one or another statistical criterion can correctly reject the null hypothesis H0, in the case when the alternative hypothesis H1 is true. The higher the power of the statistical test, the less likely we can make a type II error.\n",
    "\n",
    "In practice, usually, a test power equal to or greater than 80% is considered acceptable (which corresponds to a β-risk of 20%). This level is a consequence of the so-called \"one-to-four trade-off\" relationship between the levels of α-risk and β-risk: if we accept the significance level α = 0.05, then β = 0.05 × 4 = 0.20 and the power of the criterion is P = 1-0.20 = 0.80.\n",
    "\n",
    "And we can calculate the effect size according to how big of a difference we expect there to be between conversion rates.\n",
    "\n",
    "For this example with the difference of 2%, we can use 13% and 15% to calculate the effect size we expect.\n",
    "\n",
    "Power of the test (1−β) : 80%\n",
    "Significance level (Alpha value α) : 5%\n",
    "Effect size : 4720 (To be calculated below)\n"
   ]
  },
  {
   "cell_type": "markdown",
   "id": "a8563c69-30c7-4f08-bffa-a8a730d30d75",
   "metadata": {},
   "source": [
    "## Importing Relevant Libraries"
   ]
  },
  {
   "cell_type": "code",
   "execution_count": 1,
   "id": "ded5e997-a723-4c1f-a623-34b8e79a183f",
   "metadata": {},
   "outputs": [],
   "source": [
    "import numpy as np\n",
    "import pandas as pd\n",
    "import matplotlib.pyplot as plt\n",
    "import seaborn as sns\n",
    "sns.set()\n",
    "import math\n",
    "\n",
    "import warnings\n",
    "warnings.filterwarnings(\"ignore\")"
   ]
  },
  {
   "cell_type": "code",
   "execution_count": 11,
   "id": "ec4587b1-1184-46de-9a26-92ccad2d9bb1",
   "metadata": {},
   "outputs": [],
   "source": [
    "import scipy.stats as stats\n",
    "import statsmodels.stats.api as sms\n",
    "import matplotlib as mpl\n",
    "from math import ceil\n",
    "\n",
    "%matplotlib inline"
   ]
  },
  {
   "cell_type": "code",
   "execution_count": 60,
   "id": "17bbf5e3-89a3-4cd5-be23-03f44bba842e",
   "metadata": {},
   "outputs": [],
   "source": [
    "from statsmodels.stats.proportion import proportions_ztest, proportion_confint"
   ]
  },
  {
   "cell_type": "markdown",
   "id": "7ac1e979-969a-4f1b-bc81-f2a6f074ab7d",
   "metadata": {},
   "source": [
    "## Calculating the Effect Size"
   ]
  },
  {
   "cell_type": "code",
   "execution_count": null,
   "id": "0538037c-5c3f-49fd-8cce-cc378ba73275",
   "metadata": {},
   "outputs": [],
   "source": [
    "# We will minimum 4720 observations for each group\n",
    "\n",
    "effect_size = sms.proportion_effectsize(0.13, 0.15)\n",
    "\n",
    "required_s = sms.NormalIndPower().solve_power(effect_size, power=0.8, alpha=0.05, ratio=1)                                                  \n",
    "\n",
    "required_s = ceil(required_s)                       \n",
    "\n",
    "required_s"
   ]
  },
  {
   "cell_type": "markdown",
   "id": "d390eb22-4693-491d-b044-78b34e1ec0a4",
   "metadata": {},
   "source": [
    "## Loading and Reviewing the dataset"
   ]
  },
  {
   "cell_type": "code",
   "execution_count": 2,
   "id": "1b4f8ce4-9903-4def-8842-a74b4e9268dd",
   "metadata": {},
   "outputs": [],
   "source": [
    "raw_data = pd.read_csv('/Users/aylinkilic/Documents/Python/Python- Kaggle data/ab_data.csv')"
   ]
  },
  {
   "cell_type": "code",
   "execution_count": 13,
   "id": "6e0f845d-6778-4f7a-a772-4e5e939bdbfb",
   "metadata": {},
   "outputs": [
    {
     "data": {
      "text/html": [
       "<div>\n",
       "<style scoped>\n",
       "    .dataframe tbody tr th:only-of-type {\n",
       "        vertical-align: middle;\n",
       "    }\n",
       "\n",
       "    .dataframe tbody tr th {\n",
       "        vertical-align: top;\n",
       "    }\n",
       "\n",
       "    .dataframe thead th {\n",
       "        text-align: right;\n",
       "    }\n",
       "</style>\n",
       "<table border=\"1\" class=\"dataframe\">\n",
       "  <thead>\n",
       "    <tr style=\"text-align: right;\">\n",
       "      <th></th>\n",
       "      <th>user_id</th>\n",
       "      <th>timestamp</th>\n",
       "      <th>group</th>\n",
       "      <th>landing_page</th>\n",
       "      <th>converted</th>\n",
       "    </tr>\n",
       "  </thead>\n",
       "  <tbody>\n",
       "    <tr>\n",
       "      <th>0</th>\n",
       "      <td>851104</td>\n",
       "      <td>2017-01-21 22:11:48.556739</td>\n",
       "      <td>control</td>\n",
       "      <td>old_page</td>\n",
       "      <td>0</td>\n",
       "    </tr>\n",
       "    <tr>\n",
       "      <th>1</th>\n",
       "      <td>804228</td>\n",
       "      <td>2017-01-12 08:01:45.159739</td>\n",
       "      <td>control</td>\n",
       "      <td>old_page</td>\n",
       "      <td>0</td>\n",
       "    </tr>\n",
       "    <tr>\n",
       "      <th>2</th>\n",
       "      <td>661590</td>\n",
       "      <td>2017-01-11 16:55:06.154213</td>\n",
       "      <td>treatment</td>\n",
       "      <td>new_page</td>\n",
       "      <td>0</td>\n",
       "    </tr>\n",
       "    <tr>\n",
       "      <th>3</th>\n",
       "      <td>853541</td>\n",
       "      <td>2017-01-08 18:28:03.143765</td>\n",
       "      <td>treatment</td>\n",
       "      <td>new_page</td>\n",
       "      <td>0</td>\n",
       "    </tr>\n",
       "    <tr>\n",
       "      <th>4</th>\n",
       "      <td>864975</td>\n",
       "      <td>2017-01-21 01:52:26.210827</td>\n",
       "      <td>control</td>\n",
       "      <td>old_page</td>\n",
       "      <td>1</td>\n",
       "    </tr>\n",
       "  </tbody>\n",
       "</table>\n",
       "</div>"
      ],
      "text/plain": [
       "   user_id                   timestamp      group landing_page  converted\n",
       "0   851104  2017-01-21 22:11:48.556739    control     old_page          0\n",
       "1   804228  2017-01-12 08:01:45.159739    control     old_page          0\n",
       "2   661590  2017-01-11 16:55:06.154213  treatment     new_page          0\n",
       "3   853541  2017-01-08 18:28:03.143765  treatment     new_page          0\n",
       "4   864975  2017-01-21 01:52:26.210827    control     old_page          1"
      ]
     },
     "execution_count": 13,
     "metadata": {},
     "output_type": "execute_result"
    }
   ],
   "source": [
    "raw_data.head()"
   ]
  },
  {
   "cell_type": "code",
   "execution_count": 14,
   "id": "7100597e-fcc0-4368-a97e-53872f0ba865",
   "metadata": {},
   "outputs": [
    {
     "name": "stdout",
     "output_type": "stream",
     "text": [
      "<class 'pandas.core.frame.DataFrame'>\n",
      "RangeIndex: 294478 entries, 0 to 294477\n",
      "Data columns (total 5 columns):\n",
      " #   Column        Non-Null Count   Dtype \n",
      "---  ------        --------------   ----- \n",
      " 0   user_id       294478 non-null  int64 \n",
      " 1   timestamp     294478 non-null  object\n",
      " 2   group         294478 non-null  object\n",
      " 3   landing_page  294478 non-null  object\n",
      " 4   converted     294478 non-null  int64 \n",
      "dtypes: int64(2), object(3)\n",
      "memory usage: 11.2+ MB\n"
     ]
    }
   ],
   "source": [
    "raw_data.info()"
   ]
  },
  {
   "cell_type": "code",
   "execution_count": 15,
   "id": "257c25ce-9577-4dbb-a957-6cf59208d86c",
   "metadata": {},
   "outputs": [
    {
     "data": {
      "text/html": [
       "<div>\n",
       "<style scoped>\n",
       "    .dataframe tbody tr th:only-of-type {\n",
       "        vertical-align: middle;\n",
       "    }\n",
       "\n",
       "    .dataframe tbody tr th {\n",
       "        vertical-align: top;\n",
       "    }\n",
       "\n",
       "    .dataframe thead th {\n",
       "        text-align: right;\n",
       "    }\n",
       "</style>\n",
       "<table border=\"1\" class=\"dataframe\">\n",
       "  <thead>\n",
       "    <tr style=\"text-align: right;\">\n",
       "      <th></th>\n",
       "      <th>count</th>\n",
       "      <th>unique</th>\n",
       "      <th>top</th>\n",
       "      <th>freq</th>\n",
       "      <th>mean</th>\n",
       "      <th>std</th>\n",
       "      <th>min</th>\n",
       "      <th>25%</th>\n",
       "      <th>50%</th>\n",
       "      <th>75%</th>\n",
       "      <th>max</th>\n",
       "    </tr>\n",
       "  </thead>\n",
       "  <tbody>\n",
       "    <tr>\n",
       "      <th>user_id</th>\n",
       "      <td>294478.0</td>\n",
       "      <td>NaN</td>\n",
       "      <td>NaN</td>\n",
       "      <td>NaN</td>\n",
       "      <td>787974.124733</td>\n",
       "      <td>91210.823776</td>\n",
       "      <td>630000.0</td>\n",
       "      <td>709032.25</td>\n",
       "      <td>787933.5</td>\n",
       "      <td>866911.75</td>\n",
       "      <td>945999.0</td>\n",
       "    </tr>\n",
       "    <tr>\n",
       "      <th>timestamp</th>\n",
       "      <td>294478</td>\n",
       "      <td>294478</td>\n",
       "      <td>2017-01-21 22:11:48.556739</td>\n",
       "      <td>1</td>\n",
       "      <td>NaN</td>\n",
       "      <td>NaN</td>\n",
       "      <td>NaN</td>\n",
       "      <td>NaN</td>\n",
       "      <td>NaN</td>\n",
       "      <td>NaN</td>\n",
       "      <td>NaN</td>\n",
       "    </tr>\n",
       "    <tr>\n",
       "      <th>group</th>\n",
       "      <td>294478</td>\n",
       "      <td>2</td>\n",
       "      <td>treatment</td>\n",
       "      <td>147276</td>\n",
       "      <td>NaN</td>\n",
       "      <td>NaN</td>\n",
       "      <td>NaN</td>\n",
       "      <td>NaN</td>\n",
       "      <td>NaN</td>\n",
       "      <td>NaN</td>\n",
       "      <td>NaN</td>\n",
       "    </tr>\n",
       "    <tr>\n",
       "      <th>landing_page</th>\n",
       "      <td>294478</td>\n",
       "      <td>2</td>\n",
       "      <td>old_page</td>\n",
       "      <td>147239</td>\n",
       "      <td>NaN</td>\n",
       "      <td>NaN</td>\n",
       "      <td>NaN</td>\n",
       "      <td>NaN</td>\n",
       "      <td>NaN</td>\n",
       "      <td>NaN</td>\n",
       "      <td>NaN</td>\n",
       "    </tr>\n",
       "    <tr>\n",
       "      <th>converted</th>\n",
       "      <td>294478.0</td>\n",
       "      <td>NaN</td>\n",
       "      <td>NaN</td>\n",
       "      <td>NaN</td>\n",
       "      <td>0.119659</td>\n",
       "      <td>0.324563</td>\n",
       "      <td>0.0</td>\n",
       "      <td>0.0</td>\n",
       "      <td>0.0</td>\n",
       "      <td>0.0</td>\n",
       "      <td>1.0</td>\n",
       "    </tr>\n",
       "  </tbody>\n",
       "</table>\n",
       "</div>"
      ],
      "text/plain": [
       "                 count  unique                         top    freq  \\\n",
       "user_id       294478.0     NaN                         NaN     NaN   \n",
       "timestamp       294478  294478  2017-01-21 22:11:48.556739       1   \n",
       "group           294478       2                   treatment  147276   \n",
       "landing_page    294478       2                    old_page  147239   \n",
       "converted     294478.0     NaN                         NaN     NaN   \n",
       "\n",
       "                       mean           std       min        25%       50%  \\\n",
       "user_id       787974.124733  91210.823776  630000.0  709032.25  787933.5   \n",
       "timestamp               NaN           NaN       NaN        NaN       NaN   \n",
       "group                   NaN           NaN       NaN        NaN       NaN   \n",
       "landing_page            NaN           NaN       NaN        NaN       NaN   \n",
       "converted          0.119659      0.324563       0.0        0.0       0.0   \n",
       "\n",
       "                    75%       max  \n",
       "user_id       866911.75  945999.0  \n",
       "timestamp           NaN       NaN  \n",
       "group               NaN       NaN  \n",
       "landing_page        NaN       NaN  \n",
       "converted           0.0       1.0  "
      ]
     },
     "execution_count": 15,
     "metadata": {},
     "output_type": "execute_result"
    }
   ],
   "source": [
    "raw_data.describe(include='all').T"
   ]
  },
  {
   "cell_type": "markdown",
   "id": "bbc6e9cc-0521-4b5f-83d0-9c0592bf8468",
   "metadata": {},
   "source": [
    "## Data Preprocessing"
   ]
  },
  {
   "cell_type": "code",
   "execution_count": null,
   "id": "bfd1b560-3528-46b5-ab8e-2e1ee2f99487",
   "metadata": {},
   "outputs": [],
   "source": [
    "# First, let's check if any user has been sampled multiple times."
   ]
  },
  {
   "cell_type": "code",
   "execution_count": 20,
   "id": "53a60c14-5e52-4ce6-ba1c-806865d71db3",
   "metadata": {},
   "outputs": [
    {
     "data": {
      "text/plain": [
       "3894"
      ]
     },
     "execution_count": 20,
     "metadata": {},
     "output_type": "execute_result"
    }
   ],
   "source": [
    "session_counts = raw_data['user_id'].value_counts(ascending=False)\n",
    "dupl_users = session_counts[session_counts > 1].count()\n",
    "\n",
    "dupl_users"
   ]
  },
  {
   "cell_type": "code",
   "execution_count": 27,
   "id": "4890625f-c58a-4d48-9c86-f1e5b13b7da0",
   "metadata": {},
   "outputs": [
    {
     "name": "stdout",
     "output_type": "stream",
     "text": [
      "294478 286690\n"
     ]
    }
   ],
   "source": [
    "# We can delete the users appear more than once\n",
    "# While using isin function, to check if values is not in the DataFrame, use the ~ operator:\n",
    "\n",
    "drop_list = session_counts[session_counts > 1].index\n",
    "\n",
    "data_multi = raw_data[~raw_data['user_id'].isin(drop_list)]\n",
    "\n",
    "\n",
    "print(raw_data.shape[0], data_multi.shape[0])"
   ]
  },
  {
   "cell_type": "markdown",
   "id": "d25a4e2d-654c-41ec-888d-bda09de78274",
   "metadata": {},
   "source": [
    "## Sampling for the test"
   ]
  },
  {
   "cell_type": "code",
   "execution_count": 32,
   "id": "e8b13897-3768-48bc-8220-58524a629a4c",
   "metadata": {},
   "outputs": [],
   "source": [
    "control_group = data_multi[data_multi['group']=='control'].sample(n= required_s, random_state=22)"
   ]
  },
  {
   "cell_type": "code",
   "execution_count": 37,
   "id": "2f5345f0-dbae-4bcc-ae03-1496c6bc2034",
   "metadata": {},
   "outputs": [
    {
     "data": {
      "text/html": [
       "<div>\n",
       "<style scoped>\n",
       "    .dataframe tbody tr th:only-of-type {\n",
       "        vertical-align: middle;\n",
       "    }\n",
       "\n",
       "    .dataframe tbody tr th {\n",
       "        vertical-align: top;\n",
       "    }\n",
       "\n",
       "    .dataframe thead th {\n",
       "        text-align: right;\n",
       "    }\n",
       "</style>\n",
       "<table border=\"1\" class=\"dataframe\">\n",
       "  <thead>\n",
       "    <tr style=\"text-align: right;\">\n",
       "      <th>landing_page</th>\n",
       "      <th>old_page</th>\n",
       "    </tr>\n",
       "    <tr>\n",
       "      <th>group</th>\n",
       "      <th></th>\n",
       "    </tr>\n",
       "  </thead>\n",
       "  <tbody>\n",
       "    <tr>\n",
       "      <th>control</th>\n",
       "      <td>4720</td>\n",
       "    </tr>\n",
       "  </tbody>\n",
       "</table>\n",
       "</div>"
      ],
      "text/plain": [
       "landing_page  old_page\n",
       "group                 \n",
       "control           4720"
      ]
     },
     "execution_count": 37,
     "metadata": {},
     "output_type": "execute_result"
    }
   ],
   "source": [
    "pd.crosstab(control_group['group'], control_group['landing_page'])"
   ]
  },
  {
   "cell_type": "code",
   "execution_count": 47,
   "id": "cc980f69-8906-45d3-bf29-b9610f685c9c",
   "metadata": {},
   "outputs": [],
   "source": [
    "treatment_group = data_multi[data_multi['group']=='treatment'].sample(n= required_s, random_state=22)"
   ]
  },
  {
   "cell_type": "code",
   "execution_count": 48,
   "id": "75cc4cbc-3c24-4ea0-b6b5-45f2a8d3e7fd",
   "metadata": {},
   "outputs": [
    {
     "data": {
      "text/html": [
       "<div>\n",
       "<style scoped>\n",
       "    .dataframe tbody tr th:only-of-type {\n",
       "        vertical-align: middle;\n",
       "    }\n",
       "\n",
       "    .dataframe tbody tr th {\n",
       "        vertical-align: top;\n",
       "    }\n",
       "\n",
       "    .dataframe thead th {\n",
       "        text-align: right;\n",
       "    }\n",
       "</style>\n",
       "<table border=\"1\" class=\"dataframe\">\n",
       "  <thead>\n",
       "    <tr style=\"text-align: right;\">\n",
       "      <th>landing_page</th>\n",
       "      <th>new_page</th>\n",
       "    </tr>\n",
       "    <tr>\n",
       "      <th>group</th>\n",
       "      <th></th>\n",
       "    </tr>\n",
       "  </thead>\n",
       "  <tbody>\n",
       "    <tr>\n",
       "      <th>treatment</th>\n",
       "      <td>4720</td>\n",
       "    </tr>\n",
       "  </tbody>\n",
       "</table>\n",
       "</div>"
      ],
      "text/plain": [
       "landing_page  new_page\n",
       "group                 \n",
       "treatment         4720"
      ]
     },
     "execution_count": 48,
     "metadata": {},
     "output_type": "execute_result"
    }
   ],
   "source": [
    "pd.crosstab(treatment_group['group'], treatment_group['landing_page'])"
   ]
  },
  {
   "cell_type": "code",
   "execution_count": 52,
   "id": "83d47734-c5ab-4641-bf37-a287c350447d",
   "metadata": {},
   "outputs": [
    {
     "data": {
      "text/html": [
       "<div>\n",
       "<style scoped>\n",
       "    .dataframe tbody tr th:only-of-type {\n",
       "        vertical-align: middle;\n",
       "    }\n",
       "\n",
       "    .dataframe tbody tr th {\n",
       "        vertical-align: top;\n",
       "    }\n",
       "\n",
       "    .dataframe thead th {\n",
       "        text-align: right;\n",
       "    }\n",
       "</style>\n",
       "<table border=\"1\" class=\"dataframe\">\n",
       "  <thead>\n",
       "    <tr style=\"text-align: right;\">\n",
       "      <th></th>\n",
       "      <th>user_id</th>\n",
       "      <th>timestamp</th>\n",
       "      <th>group</th>\n",
       "      <th>landing_page</th>\n",
       "      <th>converted</th>\n",
       "    </tr>\n",
       "  </thead>\n",
       "  <tbody>\n",
       "    <tr>\n",
       "      <th>0</th>\n",
       "      <td>763854</td>\n",
       "      <td>2017-01-21 03:43:17.188315</td>\n",
       "      <td>control</td>\n",
       "      <td>old_page</td>\n",
       "      <td>0</td>\n",
       "    </tr>\n",
       "    <tr>\n",
       "      <th>1</th>\n",
       "      <td>690555</td>\n",
       "      <td>2017-01-18 06:38:13.079449</td>\n",
       "      <td>control</td>\n",
       "      <td>old_page</td>\n",
       "      <td>0</td>\n",
       "    </tr>\n",
       "    <tr>\n",
       "      <th>2</th>\n",
       "      <td>861520</td>\n",
       "      <td>2017-01-06 21:13:40.044766</td>\n",
       "      <td>control</td>\n",
       "      <td>old_page</td>\n",
       "      <td>0</td>\n",
       "    </tr>\n",
       "    <tr>\n",
       "      <th>3</th>\n",
       "      <td>630778</td>\n",
       "      <td>2017-01-05 16:42:36.995204</td>\n",
       "      <td>control</td>\n",
       "      <td>old_page</td>\n",
       "      <td>0</td>\n",
       "    </tr>\n",
       "    <tr>\n",
       "      <th>4</th>\n",
       "      <td>656634</td>\n",
       "      <td>2017-01-04 15:31:21.676130</td>\n",
       "      <td>control</td>\n",
       "      <td>old_page</td>\n",
       "      <td>0</td>\n",
       "    </tr>\n",
       "  </tbody>\n",
       "</table>\n",
       "</div>"
      ],
      "text/plain": [
       "   user_id                   timestamp    group landing_page  converted\n",
       "0   763854  2017-01-21 03:43:17.188315  control     old_page          0\n",
       "1   690555  2017-01-18 06:38:13.079449  control     old_page          0\n",
       "2   861520  2017-01-06 21:13:40.044766  control     old_page          0\n",
       "3   630778  2017-01-05 16:42:36.995204  control     old_page          0\n",
       "4   656634  2017-01-04 15:31:21.676130  control     old_page          0"
      ]
     },
     "execution_count": 52,
     "metadata": {},
     "output_type": "execute_result"
    }
   ],
   "source": [
    "ab_test = pd.concat([control_group,treatment_group], axis=0)\n",
    "ab_test.reset_index(drop=True, inplace=True)\n",
    "ab_test.head()"
   ]
  },
  {
   "cell_type": "code",
   "execution_count": 53,
   "id": "ae86da7d-6101-4e86-b82c-3ed3281431a8",
   "metadata": {},
   "outputs": [
    {
     "name": "stdout",
     "output_type": "stream",
     "text": [
      "<class 'pandas.core.frame.DataFrame'>\n",
      "RangeIndex: 9440 entries, 0 to 9439\n",
      "Data columns (total 5 columns):\n",
      " #   Column        Non-Null Count  Dtype \n",
      "---  ------        --------------  ----- \n",
      " 0   user_id       9440 non-null   int64 \n",
      " 1   timestamp     9440 non-null   object\n",
      " 2   group         9440 non-null   object\n",
      " 3   landing_page  9440 non-null   object\n",
      " 4   converted     9440 non-null   int64 \n",
      "dtypes: int64(2), object(3)\n",
      "memory usage: 368.9+ KB\n"
     ]
    }
   ],
   "source": [
    "ab_test.info()"
   ]
  },
  {
   "cell_type": "markdown",
   "id": "7b2ae253-bff0-4186-aba9-840abb0970b0",
   "metadata": {},
   "source": [
    "## Visualising"
   ]
  },
  {
   "cell_type": "code",
   "execution_count": 54,
   "id": "3cddc5b8-0f28-4bca-ab39-1f85d80fdc9f",
   "metadata": {},
   "outputs": [
    {
     "data": {
      "text/html": [
       "<style type=\"text/css\">\n",
       "</style>\n",
       "<table id=\"T_28769_\">\n",
       "  <thead>\n",
       "    <tr>\n",
       "      <th class=\"blank level0\" >&nbsp;</th>\n",
       "      <th class=\"col_heading level0 col0\" >conversion_rate</th>\n",
       "      <th class=\"col_heading level0 col1\" >std_deviation</th>\n",
       "      <th class=\"col_heading level0 col2\" >std_error</th>\n",
       "    </tr>\n",
       "    <tr>\n",
       "      <th class=\"index_name level0\" >group</th>\n",
       "      <th class=\"blank col0\" >&nbsp;</th>\n",
       "      <th class=\"blank col1\" >&nbsp;</th>\n",
       "      <th class=\"blank col2\" >&nbsp;</th>\n",
       "    </tr>\n",
       "  </thead>\n",
       "  <tbody>\n",
       "    <tr>\n",
       "      <th id=\"T_28769_level0_row0\" class=\"row_heading level0 row0\" >control</th>\n",
       "      <td id=\"T_28769_row0_col0\" class=\"data row0 col0\" >0.123</td>\n",
       "      <td id=\"T_28769_row0_col1\" class=\"data row0 col1\" >0.329</td>\n",
       "      <td id=\"T_28769_row0_col2\" class=\"data row0 col2\" >0.005</td>\n",
       "    </tr>\n",
       "    <tr>\n",
       "      <th id=\"T_28769_level0_row1\" class=\"row_heading level0 row1\" >treatment</th>\n",
       "      <td id=\"T_28769_row1_col0\" class=\"data row1 col0\" >0.126</td>\n",
       "      <td id=\"T_28769_row1_col1\" class=\"data row1 col1\" >0.331</td>\n",
       "      <td id=\"T_28769_row1_col2\" class=\"data row1 col2\" >0.005</td>\n",
       "    </tr>\n",
       "  </tbody>\n",
       "</table>\n"
      ],
      "text/plain": [
       "<pandas.io.formats.style.Styler at 0x7fc9d11ac910>"
      ]
     },
     "execution_count": 54,
     "metadata": {},
     "output_type": "execute_result"
    }
   ],
   "source": [
    "conversion_rates = ab_test.groupby('group')['converted']\n",
    "\n",
    "# Std. deviation of the proportion\n",
    "std_p = lambda x: np.std(x, ddof=0)  \n",
    "\n",
    "# Std. error of the proportion (std / sqrt(n))\n",
    "se_p = lambda x: stats.sem(x, ddof=0)            \n",
    "\n",
    "conversion_rates = conversion_rates.agg([np.mean, std_p, se_p])\n",
    "conversion_rates.columns = ['conversion_rate', 'std_deviation', 'std_error']\n",
    "\n",
    "conversion_rates.style.format('{:.3f}')"
   ]
  },
  {
   "cell_type": "code",
   "execution_count": 99,
   "id": "4a2784b9-1c07-4d13-9ffb-468ca476f857",
   "metadata": {},
   "outputs": [
    {
     "data": {
      "image/png": "[encoded data removed]",
      "text/plain": [
       "<Figure size 576x432 with 1 Axes>"
      ]
     },
     "metadata": {
      "needs_background": "light"
     },
     "output_type": "display_data"
    }
   ],
   "source": [
    "plt.figure(figsize=(8,6))\n",
    "\n",
    "sns.barplot(x=ab_test['group'], y=ab_test['converted'], ci=False, palette='magma')\n",
    "\n",
    "plt.ylim(0, 0.17)\n",
    "plt.title('Conversion Rate by Group', size=20)\n",
    "plt.xlabel('Group', size=15)\n",
    "plt.ylabel('Converted (proportion)', size=15);"
   ]
  },
  {
   "cell_type": "markdown",
   "id": "802083f3-f9db-4faa-86f0-b242f7d6b931",
   "metadata": {},
   "source": [
    "The conversion rates are quite similar which are 12.3% for control group while for treatment group 12.6%. \n",
    "\n",
    "The treatment group's value is higher but we need to check if this difference statistically significant. :)"
   ]
  },
  {
   "cell_type": "markdown",
   "id": "73e5eae0-0779-4b5c-87c5-e4dc9f3fe25b",
   "metadata": {
    "tags": []
   },
   "source": [
    "## Testing the Hypothesis"
   ]
  },
  {
   "cell_type": "code",
   "execution_count": 63,
   "id": "056066f8-ccae-4e05-89ba-6ac36dadd010",
   "metadata": {},
   "outputs": [],
   "source": [
    "control_results = ab_test[ab_test['group'] == 'control']['converted']\n",
    "treatment_results = ab_test[ab_test['group'] == 'treatment']['converted']"
   ]
  },
  {
   "cell_type": "code",
   "execution_count": 65,
   "id": "8c9118fa-f68d-4b3c-bd75-ed845c606124",
   "metadata": {},
   "outputs": [],
   "source": [
    "nr_control = control_results.count()\n",
    "nr_treatment = control_results.count()\n",
    "successes = [control_results.sum(), treatment_results.sum()]\n",
    "nr_obs = [nr_control, nr_treatment]"
   ]
  },
  {
   "cell_type": "code",
   "execution_count": 66,
   "id": "5bd8a7f6-bd57-4299-bb2b-d95dd3e3e018",
   "metadata": {},
   "outputs": [],
   "source": [
    "z_stat, pvalue = proportions_ztest(successes, nobs=nr_obs)\n",
    "\n",
    "# Confidence interval\n",
    "(lower_control, lower_treatment), (upper_control, upper_treatment) = proportion_confint(successes, nobs=nr_obs, alpha=0.05)"
   ]
  },
  {
   "cell_type": "code",
   "execution_count": 94,
   "id": "7ec70b70-8148-46af-8e66-c5adc10e55ff",
   "metadata": {},
   "outputs": [
    {
     "name": "stdout",
     "output_type": "stream",
     "text": [
      "Z Statistic              : -0.34\n",
      "P-Value                  :  0.732\n",
      "CI 95% for control group : [0.114,0.133]\n",
      "CI 95% for control group : [0.116,0.135]\n"
     ]
    }
   ],
   "source": [
    "print('Z Statistic              : {:.2f}'.format(z_stat))\n",
    "print('P-Value                  : {:6.3f}'.format(pvalue))\n",
    "print('CI 95% for control group : [{:.3f},{:.3f}]'.format(lower_control, upper_control))\n",
    "print('CI 95% for control group : [{:.3f},{:.3f}]'.format(lower_treatment, upper_treatment))"
   ]
  },
  {
   "cell_type": "markdown",
   "id": "40a7b034-c4ce-4f14-927e-47f8348ab3ef",
   "metadata": {},
   "source": [
    "Based on the p-value of 0.0732 which is much higher then our alfa(0.05), we can not reject the null hypothesis.\n",
    "\n",
    "Our new page design have same similar effect with the old one 😌 \n",
    "\n",
    "Also confidence interval for the treatment group shows that we can not reach the desired conversion rate of 15%. Let's hope to reach with the next design work ☀️"
   ]
  },
  {
   "cell_type": "markdown",
   "id": "722abc80-d8f0-4b07-a939-235ebc24f741",
   "metadata": {},
   "source": [
    "I hope that you find it useful. As I will be happy to improve myself, your comments and feedbacks are always welcome, as are suggestions for additional information that could usefully be included. Thank you! 🌸😊"
   ]
  }
 ],
 "metadata": {
  "kernelspec": {
   "display_name": "Python 3 (ipykernel)",
   "language": "python",
   "name": "python3"
  },
  "language_info": {
   "codemirror_mode": {
    "name": "ipython",
    "version": 3
   },
   "file_extension": ".py",
   "mimetype": "text/x-python",
   "name": "python",
   "nbconvert_exporter": "python",
   "pygments_lexer": "ipython3",
   "version": "3.9.7"
  }
 },
 "nbformat": 4,
 "nbformat_minor": 5
}
