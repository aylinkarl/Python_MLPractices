{
  "nbformat": 4,
  "nbformat_minor": 0,
  "metadata": {
    "colab": {
      "name": "MNIST_data_set_ML_practice.ipynb",
      "provenance": [],
      "include_colab_link": true
    },
    "kernelspec": {
      "name": "python3",
      "display_name": "Python 3"
    },
    "language_info": {
      "name": "python"
    },
    "widgets": {
      "application/vnd.jupyter.widget-state+json": {
        "9f3ebbc5c8fa47af820ed96f60c1a35d": {
          "model_module": "@jupyter-widgets/controls",
          "model_name": "HBoxModel",
          "model_module_version": "1.5.0",
          "state": {
            "_dom_classes": [],
            "_model_module": "@jupyter-widgets/controls",
            "_model_module_version": "1.5.0",
            "_model_name": "HBoxModel",
            "_view_count": null,
            "_view_module": "@jupyter-widgets/controls",
            "_view_module_version": "1.5.0",
            "_view_name": "HBoxView",
            "box_style": "",
            "children": [
              "IPY_MODEL_02397680ea9d4314af30b8327137c3a1",
              "IPY_MODEL_9d459511a6d04010b4a8c4fba61c2af2",
              "IPY_MODEL_1c6863a6b3234b69bef9de5bea2a18c1"
            ],
            "layout": "IPY_MODEL_567d761db5ed4301bf27909183b69f10"
          }
        },
        "02397680ea9d4314af30b8327137c3a1": {
          "model_module": "@jupyter-widgets/controls",
          "model_name": "HTMLModel",
          "model_module_version": "1.5.0",
          "state": {
            "_dom_classes": [],
            "_model_module": "@jupyter-widgets/controls",
            "_model_module_version": "1.5.0",
            "_model_name": "HTMLModel",
            "_view_count": null,
            "_view_module": "@jupyter-widgets/controls",
            "_view_module_version": "1.5.0",
            "_view_name": "HTMLView",
            "description": "",
            "description_tooltip": null,
            "layout": "IPY_MODEL_32e7668789424f7fb56656092386e9e9",
            "placeholder": "​",
            "style": "IPY_MODEL_8616fc62fcc74e81a9b6dd1a10570491",
            "value": "Dl Completed...: 100%"
          }
        },
        "9d459511a6d04010b4a8c4fba61c2af2": {
          "model_module": "@jupyter-widgets/controls",
          "model_name": "FloatProgressModel",
          "model_module_version": "1.5.0",
          "state": {
            "_dom_classes": [],
            "_model_module": "@jupyter-widgets/controls",
            "_model_module_version": "1.5.0",
            "_model_name": "FloatProgressModel",
            "_view_count": null,
            "_view_module": "@jupyter-widgets/controls",
            "_view_module_version": "1.5.0",
            "_view_name": "ProgressView",
            "bar_style": "success",
            "description": "",
            "description_tooltip": null,
            "layout": "IPY_MODEL_c5bbaf829113459f83d81d42c6daad58",
            "max": 4,
            "min": 0,
            "orientation": "horizontal",
            "style": "IPY_MODEL_c870efd8fe1c49e78265fdd551b43250",
            "value": 4
          }
        },
        "1c6863a6b3234b69bef9de5bea2a18c1": {
          "model_module": "@jupyter-widgets/controls",
          "model_name": "HTMLModel",
          "model_module_version": "1.5.0",
          "state": {
            "_dom_classes": [],
            "_model_module": "@jupyter-widgets/controls",
            "_model_module_version": "1.5.0",
            "_model_name": "HTMLModel",
            "_view_count": null,
            "_view_module": "@jupyter-widgets/controls",
            "_view_module_version": "1.5.0",
            "_view_name": "HTMLView",
            "description": "",
            "description_tooltip": null,
            "layout": "IPY_MODEL_b235d3f2c0a74578a935c7ee8f45e2de",
            "placeholder": "​",
            "style": "IPY_MODEL_009fcd893c7a4f67b80be560a1260287",
            "value": " 4/4 [00:00&lt;00:00,  5.09 file/s]"
          }
        },
        "567d761db5ed4301bf27909183b69f10": {
          "model_module": "@jupyter-widgets/base",
          "model_name": "LayoutModel",
          "model_module_version": "1.2.0",
          "state": {
            "_model_module": "@jupyter-widgets/base",
            "_model_module_version": "1.2.0",
            "_model_name": "LayoutModel",
            "_view_count": null,
            "_view_module": "@jupyter-widgets/base",
            "_view_module_version": "1.2.0",
            "_view_name": "LayoutView",
            "align_content": null,
            "align_items": null,
            "align_self": null,
            "border": null,
            "bottom": null,
            "display": null,
            "flex": null,
            "flex_flow": null,
            "grid_area": null,
            "grid_auto_columns": null,
            "grid_auto_flow": null,
            "grid_auto_rows": null,
            "grid_column": null,
            "grid_gap": null,
            "grid_row": null,
            "grid_template_areas": null,
            "grid_template_columns": null,
            "grid_template_rows": null,
            "height": null,
            "justify_content": null,
            "justify_items": null,
            "left": null,
            "margin": null,
            "max_height": null,
            "max_width": null,
            "min_height": null,
            "min_width": null,
            "object_fit": null,
            "object_position": null,
            "order": null,
            "overflow": null,
            "overflow_x": null,
            "overflow_y": null,
            "padding": null,
            "right": null,
            "top": null,
            "visibility": null,
            "width": null
          }
        },
        "32e7668789424f7fb56656092386e9e9": {
          "model_module": "@jupyter-widgets/base",
          "model_name": "LayoutModel",
          "model_module_version": "1.2.0",
          "state": {
            "_model_module": "@jupyter-widgets/base",
            "_model_module_version": "1.2.0",
            "_model_name": "LayoutModel",
            "_view_count": null,
            "_view_module": "@jupyter-widgets/base",
            "_view_module_version": "1.2.0",
            "_view_name": "LayoutView",
            "align_content": null,
            "align_items": null,
            "align_self": null,
            "border": null,
            "bottom": null,
            "display": null,
            "flex": null,
            "flex_flow": null,
            "grid_area": null,
            "grid_auto_columns": null,
            "grid_auto_flow": null,
            "grid_auto_rows": null,
            "grid_column": null,
            "grid_gap": null,
            "grid_row": null,
            "grid_template_areas": null,
            "grid_template_columns": null,
            "grid_template_rows": null,
            "height": null,
            "justify_content": null,
            "justify_items": null,
            "left": null,
            "margin": null,
            "max_height": null,
            "max_width": null,
            "min_height": null,
            "min_width": null,
            "object_fit": null,
            "object_position": null,
            "order": null,
            "overflow": null,
            "overflow_x": null,
            "overflow_y": null,
            "padding": null,
            "right": null,
            "top": null,
            "visibility": null,
            "width": null
          }
        },
        "8616fc62fcc74e81a9b6dd1a10570491": {
          "model_module": "@jupyter-widgets/controls",
          "model_name": "DescriptionStyleModel",
          "model_module_version": "1.5.0",
          "state": {
            "_model_module": "@jupyter-widgets/controls",
            "_model_module_version": "1.5.0",
            "_model_name": "DescriptionStyleModel",
            "_view_count": null,
            "_view_module": "@jupyter-widgets/base",
            "_view_module_version": "1.2.0",
            "_view_name": "StyleView",
            "description_width": ""
          }
        },
        "c5bbaf829113459f83d81d42c6daad58": {
          "model_module": "@jupyter-widgets/base",
          "model_name": "LayoutModel",
          "model_module_version": "1.2.0",
          "state": {
            "_model_module": "@jupyter-widgets/base",
            "_model_module_version": "1.2.0",
            "_model_name": "LayoutModel",
            "_view_count": null,
            "_view_module": "@jupyter-widgets/base",
            "_view_module_version": "1.2.0",
            "_view_name": "LayoutView",
            "align_content": null,
            "align_items": null,
            "align_self": null,
            "border": null,
            "bottom": null,
            "display": null,
            "flex": null,
            "flex_flow": null,
            "grid_area": null,
            "grid_auto_columns": null,
            "grid_auto_flow": null,
            "grid_auto_rows": null,
            "grid_column": null,
            "grid_gap": null,
            "grid_row": null,
            "grid_template_areas": null,
            "grid_template_columns": null,
            "grid_template_rows": null,
            "height": null,
            "justify_content": null,
            "justify_items": null,
            "left": null,
            "margin": null,
            "max_height": null,
            "max_width": null,
            "min_height": null,
            "min_width": null,
            "object_fit": null,
            "object_position": null,
            "order": null,
            "overflow": null,
            "overflow_x": null,
            "overflow_y": null,
            "padding": null,
            "right": null,
            "top": null,
            "visibility": null,
            "width": null
          }
        },
        "c870efd8fe1c49e78265fdd551b43250": {
          "model_module": "@jupyter-widgets/controls",
          "model_name": "ProgressStyleModel",
          "model_module_version": "1.5.0",
          "state": {
            "_model_module": "@jupyter-widgets/controls",
            "_model_module_version": "1.5.0",
            "_model_name": "ProgressStyleModel",
            "_view_count": null,
            "_view_module": "@jupyter-widgets/base",
            "_view_module_version": "1.2.0",
            "_view_name": "StyleView",
            "bar_color": null,
            "description_width": ""
          }
        },
        "b235d3f2c0a74578a935c7ee8f45e2de": {
          "model_module": "@jupyter-widgets/base",
          "model_name": "LayoutModel",
          "model_module_version": "1.2.0",
          "state": {
            "_model_module": "@jupyter-widgets/base",
            "_model_module_version": "1.2.0",
            "_model_name": "LayoutModel",
            "_view_count": null,
            "_view_module": "@jupyter-widgets/base",
            "_view_module_version": "1.2.0",
            "_view_name": "LayoutView",
            "align_content": null,
            "align_items": null,
            "align_self": null,
            "border": null,
            "bottom": null,
            "display": null,
            "flex": null,
            "flex_flow": null,
            "grid_area": null,
            "grid_auto_columns": null,
            "grid_auto_flow": null,
            "grid_auto_rows": null,
            "grid_column": null,
            "grid_gap": null,
            "grid_row": null,
            "grid_template_areas": null,
            "grid_template_columns": null,
            "grid_template_rows": null,
            "height": null,
            "justify_content": null,
            "justify_items": null,
            "left": null,
            "margin": null,
            "max_height": null,
            "max_width": null,
            "min_height": null,
            "min_width": null,
            "object_fit": null,
            "object_position": null,
            "order": null,
            "overflow": null,
            "overflow_x": null,
            "overflow_y": null,
            "padding": null,
            "right": null,
            "top": null,
            "visibility": null,
            "width": null
          }
        },
        "009fcd893c7a4f67b80be560a1260287": {
          "model_module": "@jupyter-widgets/controls",
          "model_name": "DescriptionStyleModel",
          "model_module_version": "1.5.0",
          "state": {
            "_model_module": "@jupyter-widgets/controls",
            "_model_module_version": "1.5.0",
            "_model_name": "DescriptionStyleModel",
            "_view_count": null,
            "_view_module": "@jupyter-widgets/base",
            "_view_module_version": "1.2.0",
            "_view_name": "StyleView",
            "description_width": ""
          }
        }
      }
    }
  },
  "cells": [
    {
      "cell_type": "markdown",
      "metadata": {
        "id": "view-in-github",
        "colab_type": "text"
      },
      "source": [
        "<a href=\"https://colab.research.google.com/github/aylinkarl/Python_MLPractices/blob/main/MNIST_data_set_ML_practice.ipynb\" target=\"_parent\"><img src=\"https://colab.research.google.com/assets/colab-badge.svg\" alt=\"Open In Colab\"/></a>"
      ]
    },
    {
      "cell_type": "code",
      "execution_count": null,
      "metadata": {
        "id": "Z4O6HJk5k8IH"
      },
      "outputs": [],
      "source": [
        "import numpy as np\n",
        "import tensorflow as tf\n",
        "\n",
        "import tensorflow_datasets as tfds"
      ]
    },
    {
      "cell_type": "code",
      "source": [
        "# Let's load the data set.\n",
        "# 'with_info=True' to get information about version, features and number of instances.\n",
        "# 'as_supervised=True' to load the dataset in a 2-tuple structure (input, target) \n",
        "# 'as_supervised=False' would return a dictionary\n",
        "\n",
        "mnist_dataset, mnist_info = tfds.load(name=\"mnist\", with_info= True, as_supervised= True)"
      ],
      "metadata": {
        "id": "1Yvl_cgDlBbc",
        "colab": {
          "base_uri": "https://localhost:8080/",
          "height": 205,
          "referenced_widgets": [
            "9f3ebbc5c8fa47af820ed96f60c1a35d",
            "02397680ea9d4314af30b8327137c3a1",
            "9d459511a6d04010b4a8c4fba61c2af2",
            "1c6863a6b3234b69bef9de5bea2a18c1",
            "567d761db5ed4301bf27909183b69f10",
            "32e7668789424f7fb56656092386e9e9",
            "8616fc62fcc74e81a9b6dd1a10570491",
            "c5bbaf829113459f83d81d42c6daad58",
            "c870efd8fe1c49e78265fdd551b43250",
            "b235d3f2c0a74578a935c7ee8f45e2de",
            "009fcd893c7a4f67b80be560a1260287"
          ]
        },
        "outputId": "b819444f-430c-4b8e-c86b-0365969edf34"
      },
      "execution_count": null,
      "outputs": [
        {
          "output_type": "stream",
          "name": "stdout",
          "text": [
            "\u001b[1mDownloading and preparing dataset mnist/3.0.1 (download: 11.06 MiB, generated: 21.00 MiB, total: 32.06 MiB) to /root/tensorflow_datasets/mnist/3.0.1...\u001b[0m\n"
          ]
        },
        {
          "output_type": "stream",
          "name": "stderr",
          "text": [
            "WARNING:absl:Dataset mnist is hosted on GCS. It will automatically be downloaded to your\n",
            "local data directory. If you'd instead prefer to read directly from our public\n",
            "GCS bucket (recommended if you're running on GCP), you can instead pass\n",
            "`try_gcs=True` to `tfds.load` or set `data_dir=gs://tfds-data/datasets`.\n",
            "\n"
          ]
        },
        {
          "output_type": "display_data",
          "data": {
            "text/plain": [
              "Dl Completed...:   0%|          | 0/4 [00:00<?, ? file/s]"
            ],
            "application/vnd.jupyter.widget-view+json": {
              "version_major": 2,
              "version_minor": 0,
              "model_id": "9f3ebbc5c8fa47af820ed96f60c1a35d"
            }
          },
          "metadata": {}
        },
        {
          "output_type": "stream",
          "name": "stdout",
          "text": [
            "\n",
            "\u001b[1mDataset mnist downloaded and prepared to /root/tensorflow_datasets/mnist/3.0.1. Subsequent calls will reuse this data.\u001b[0m\n"
          ]
        }
      ]
    },
    {
      "cell_type": "code",
      "source": [
        "mnist_info"
      ],
      "metadata": {
        "id": "Tf8h8wgulCCf",
        "colab": {
          "base_uri": "https://localhost:8080/"
        },
        "outputId": "53cbb045-c1d7-4e75-8db4-40c3bb162331"
      },
      "execution_count": null,
      "outputs": [
        {
          "output_type": "execute_result",
          "data": {
            "text/plain": [
              "tfds.core.DatasetInfo(\n",
              "    name='mnist',\n",
              "    version=3.0.1,\n",
              "    description='The MNIST database of handwritten digits.',\n",
              "    homepage='http://yann.lecun.com/exdb/mnist/',\n",
              "    features=FeaturesDict({\n",
              "        'image': Image(shape=(28, 28, 1), dtype=tf.uint8),\n",
              "        'label': ClassLabel(shape=(), dtype=tf.int64, num_classes=10),\n",
              "    }),\n",
              "    total_num_examples=70000,\n",
              "    splits={\n",
              "        'test': 10000,\n",
              "        'train': 60000,\n",
              "    },\n",
              "    supervised_keys=('image', 'label'),\n",
              "    citation=\"\"\"@article{lecun2010mnist,\n",
              "      title={MNIST handwritten digit database},\n",
              "      author={LeCun, Yann and Cortes, Corinna and Burges, CJ},\n",
              "      journal={ATT Labs [Online]. Available: http://yann.lecun.com/exdb/mnist},\n",
              "      volume={2},\n",
              "      year={2010}\n",
              "    }\"\"\",\n",
              "    redistribution_info=,\n",
              ")"
            ]
          },
          "metadata": {},
          "execution_count": 3
        }
      ]
    },
    {
      "cell_type": "code",
      "source": [
        "# Training and testing datasets can be easily extracted.\n",
        "\n",
        "mnist_train, mnist_test = mnist_dataset['train'], mnist_dataset['test']\n",
        "\n",
        "# I will use 10% of our training dataset as validation.\n",
        "# 'tf.cast' casts a tensor to a new type.\n",
        "\n",
        "num_validation_samples = 0.1 * mnist_info.splits['train'].num_examples\n",
        "num_validation_samples = tf.cast(num_validation_samples, tf.int64)\n",
        "\n",
        "num_test_samples = 0.1 * mnist_info.splits['test'].num_examples\n",
        "num_test_samples = tf.cast(num_test_samples, tf.int64)\n",
        "\n",
        "\n",
        "# Since the possible values for the inputs are between 0 and 255, \n",
        "# we can scale them between 0 and 1 by dividing each element by 255.\n",
        "\n",
        "def scale(image, label):\n",
        "  image = tf.cast(image, tf.float32)\n",
        "  image /= 255.\n",
        "  return image, label"
      ],
      "metadata": {
        "id": "Jb8vL_wBlCAH"
      },
      "execution_count": null,
      "outputs": []
    },
    {
      "cell_type": "code",
      "source": [
        "# 'map' allows us to apply a custom transformation to a given dataset\n",
        "\n",
        "scaled_train_validation_data = mnist_train.map(scale)\n",
        "\n",
        "# Let's scale the test data to have the same size as train and validation.\n",
        "# No need to shuffle as we won't be training with it\n",
        "# A single batch equal to the size of the test data will suffice.\n",
        "\n",
        "test_data = mnist_test.map(scale)"
      ],
      "metadata": {
        "id": "gEPctstzlB9x"
      },
      "execution_count": null,
      "outputs": []
    },
    {
      "cell_type": "code",
      "source": [
        "# I will define a buffer size to save memory, this is mostly useful while working big data.\n",
        "# with this TF only stores BUFFER_SIZE samples in memory at a time and shuffles them.\n",
        "# If BUFFER_SIZE=1, there will actually be no shuffling, and of course if BUFFER_SIZE >= number of samples, mixing would be uniform.\n",
        "buf_size = 10000\n",
        "\n",
        "# I will easily use the shuffle method.\n",
        "shuffled_train_validation_data = scaled_train_validation_data.shuffle(buf_size)\n",
        "\n",
        "# I create a batch with a batch size equal to the total number of validation samples\n",
        "# And the rest would be the train data.\n",
        "\n",
        "validation_data = shuffled_train_validation_data.take(num_validation_samples)\n",
        "train_data = shuffled_train_validation_data.skip(num_validation_samples)\n",
        "\n",
        "# Let's determine a batch size.\n",
        "batch_size = 50\n",
        "\n",
        "# batching the train data would be very helpful when we train, as we would be able to iterate over the different batches.\n",
        "train_data = train_data.batch(batch_size)\n",
        "validation_data = validation_data.batch(num_validation_samples)\n",
        "test_data = test_data.batch(num_test_samples)\n",
        "\n",
        "# 'as_supervized=True' takes the next batch as we have a 2-tuple structure.\n",
        "validation_inputs, validation_targets = next(iter(validation_data))"
      ],
      "metadata": {
        "id": "QNioow83lB7J"
      },
      "execution_count": null,
      "outputs": []
    },
    {
      "cell_type": "code",
      "source": [
        "input_size = 784\n",
        "output_size = 10\n",
        "# I will use same hidden layer size for all hidden layers\n",
        "hidden_layer_size = 150\n",
        "\n",
        "model = tf.keras.Sequential([\n",
        "                             tf.keras.layers.Flatten(input_shape=(28,28,1)),\n",
        "                             tf.keras.layers.Dense(hidden_layer_size, activation=\"tanh\"),\n",
        "                             tf.keras.layers.Dense(hidden_layer_size, activation=\"relu\"),\n",
        "                             tf.keras.layers.Dense(hidden_layer_size, activation=\"relu\"),\n",
        "                             tf.keras.layers.Dense(hidden_layer_size, activation=\"tanh\"),\n",
        "                             tf.keras.layers.Dense(output_size, activation=\"softmax\")\n",
        "                             ])"
      ],
      "metadata": {
        "id": "1B8lH5XTmJLN"
      },
      "execution_count": null,
      "outputs": []
    },
    {
      "cell_type": "code",
      "source": [
        "# I will define the optimizer, the loss function, and the metrics to get at each iteration.\n",
        "\n",
        "model.compile(optimizer=\"adam\", loss=\"sparse_categorical_crossentropy\", metrics=[\"accuracy\"])"
      ],
      "metadata": {
        "id": "Rbv7LX4c98wJ"
      },
      "execution_count": null,
      "outputs": []
    },
    {
      "cell_type": "code",
      "source": [
        "# The maximum number of epochs\n",
        "max_epochs = 10\n",
        "\n",
        "# Let's set up an early stop mechanism with patience=2 so our model will be somewhat tolerant of random validation loss increase\n",
        "early_stopping = tf.keras.callbacks.EarlyStopping(patience=2)\n",
        "\n",
        "# The accuracy shows in what % of the cases the outputs were equal to the targets.\n",
        "# The val_accuracy shows the true accuracy of the model.\n",
        "model.fit(train_data, epochs= max_epochs, callbacks=[early_stopping], validation_data=(validation_inputs,validation_targets), verbose=2 )\n",
        "\n"
      ],
      "metadata": {
        "id": "eecrG14MlB4h",
        "colab": {
          "base_uri": "https://localhost:8080/"
        },
        "outputId": "f2611b30-6470-49e3-a842-446c57e491a7"
      },
      "execution_count": null,
      "outputs": [
        {
          "output_type": "stream",
          "name": "stdout",
          "text": [
            "Epoch 1/10\n",
            "1080/1080 - 12s - loss: 0.2412 - accuracy: 0.9254 - val_loss: 0.1304 - val_accuracy: 0.9628 - 12s/epoch - 11ms/step\n",
            "Epoch 2/10\n",
            "1080/1080 - 6s - loss: 0.1096 - accuracy: 0.9659 - val_loss: 0.0866 - val_accuracy: 0.9758 - 6s/epoch - 5ms/step\n",
            "Epoch 3/10\n",
            "1080/1080 - 6s - loss: 0.0816 - accuracy: 0.9741 - val_loss: 0.0796 - val_accuracy: 0.9762 - 6s/epoch - 5ms/step\n",
            "Epoch 4/10\n",
            "1080/1080 - 6s - loss: 0.0647 - accuracy: 0.9789 - val_loss: 0.0690 - val_accuracy: 0.9788 - 6s/epoch - 6ms/step\n",
            "Epoch 5/10\n",
            "1080/1080 - 6s - loss: 0.0514 - accuracy: 0.9833 - val_loss: 0.0597 - val_accuracy: 0.9820 - 6s/epoch - 6ms/step\n",
            "Epoch 6/10\n",
            "1080/1080 - 6s - loss: 0.0450 - accuracy: 0.9850 - val_loss: 0.0746 - val_accuracy: 0.9770 - 6s/epoch - 5ms/step\n",
            "Epoch 7/10\n",
            "1080/1080 - 6s - loss: 0.0398 - accuracy: 0.9872 - val_loss: 0.0685 - val_accuracy: 0.9780 - 6s/epoch - 6ms/step\n"
          ]
        },
        {
          "output_type": "execute_result",
          "data": {
            "text/plain": [
              "<keras.callbacks.History at 0x7fc4f79a4a10>"
            ]
          },
          "metadata": {},
          "execution_count": 9
        }
      ]
    },
    {
      "cell_type": "code",
      "source": [
        "# After training on the training data and validating on the validation data, \n",
        "# I will test the final prediction power of the model by running it on the test dataset that the algorithm has never seen before.\n",
        "# The test should be the absolute last sample.\n",
        "\n",
        "test_loss, test_accuracy = model.evaluate(test_data)\n",
        "print(\"test_loss:{0:.2f}, test_accuracy:{1:.2f}%\".format(test_loss, test_accuracy*100.))"
      ],
      "metadata": {
        "colab": {
          "base_uri": "https://localhost:8080/"
        },
        "id": "oQm7UE3dPf8L",
        "outputId": "935769c2-8575-444e-9dad-d2ac6ad721f7"
      },
      "execution_count": null,
      "outputs": [
        {
          "output_type": "stream",
          "name": "stdout",
          "text": [
            "10/10 [==============================] - 2s 178ms/step - loss: 0.1071 - accuracy: 0.9705\n",
            "test_loss:0.11, test_accuracy:97.05%\n"
          ]
        }
      ]
    },
    {
      "cell_type": "markdown",
      "source": [
        "I hope that you find it useful. As I will be happy to improve myself, your comments and feedbacks are always welcome, as are suggestions for additional information that could usefully be included. Thank you! 🌸😊"
      ],
      "metadata": {
        "id": "J9O_7XFMlPGf"
      }
    }
  ]
}